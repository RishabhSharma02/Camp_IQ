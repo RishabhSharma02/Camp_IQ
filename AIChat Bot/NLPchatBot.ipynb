{
  "cells": [
    {
      "cell_type": "code",
      "execution_count": null,
      "metadata": {
        "id": "YZd8FQF09SkY"
      },
      "outputs": [],
      "source": [
        "import random \n",
        "import re\n",
        "import numpy as np\n",
        "import nltk\n",
        "import string "
      ]
    },
    {
      "cell_type": "code",
      "execution_count": null,
      "metadata": {
        "colab": {
          "base_uri": "https://localhost:8080/"
        },
        "id": "Z026TDsRC5Jd",
        "outputId": "df830453-5286-4542-f23d-212443ee007f"
      },
      "outputs": [
        {
          "output_type": "stream",
          "name": "stdout",
          "text": [
            "Drive already mounted at /content/drive; to attempt to forcibly remount, call drive.mount(\"/content/drive\", force_remount=True).\n"
          ]
        }
      ],
      "source": [
        "from google.colab import drive\n",
        "drive.mount('/content/drive')"
      ]
    },
    {
      "cell_type": "code",
      "execution_count": null,
      "metadata": {
        "id": "HiOJF77tDLuq"
      },
      "outputs": [],
      "source": [
        "f = open('/content/drive/MyDrive/NLPChatbot/nlpdata.txt','r',errors='ignore')\n",
        "raw_doc = f.read()"
      ]
    },
    {
      "cell_type": "code",
      "execution_count": null,
      "metadata": {
        "colab": {
          "base_uri": "https://localhost:8080/",
          "height": 140
        },
        "id": "L3ubOTr9FPZu",
        "outputId": "605b0eb1-765d-487b-d9a3-6e01b3c024f1"
      },
      "outputs": [
        {
          "output_type": "execute_result",
          "data": {
            "text/plain": [
              "\"Hello, welcome to CampusIQ. I am your campbud , how may I assist you today? \\nFor problems related to attendance, try contacting your proctor in case you have very low attendance, call your proctor for attendance below 75.\\nFor a particular date in the a month send message to your teacher muthulakshmi for attendance for this date. \\nSending message to Dr. Muthulakshmi for updating\\nyour attendance. Telling your teacher Dr. Muthulakshmi to update your attendance. \\nThe teacher did not give attendance in one of the lecture during cat 2 in which i was present and now \\nthe portals are closed even if i attend the remaining 3 lectures i will have 71% attendance. Now should i \\nrequest my lecture to write a letter to the dean or make a fake medical report to get my attendance.\\nAttend all the the lectures in the coming week. If still not above 75% , go to your proctor or HOD & request them. In this situation only proctor can solve your issue . No one else will. Request him/her sincerely. You will be allowed to appear for FAT, so dont worry.\\n\\nEven many students had attendance below 75% in CAT:1&2 . They requested their proctor for\\n help & they were allowed to write the exam.\\n\\nGo to your proctor as soon as possible.\\n graduated this year from VIT chennai with my major in mechanical engineering. I have gone through some good times and some bad times there. Don’t worry I am not gonna explain those to you.\\n\\nI will explain the campus through various attributes.\\n\\nCampus: The campus started in 2010. We were the third batch of VIT Chennai (2012–2016). It has developed a lot since 4 years. but still it is nothing compared to Vellore campus. Still i will lay it down for you.\\nThe campus is in 150 acres and consist of the following building:\\n1. 2 hostels: 15 floors each for boys and girls\\n2. 1 MBA block\\n3. one 3 floored library (best features of the campus)\\n4. one pond which noone cares about\\n5. 1 academic block\\n6. 1 Canteen, 2 Gazibo, 2 ATMs, 1 V-Mart: for your survival from Ghatia mess food.\\n7. Some restaurants and juice center outside the campus are available\\nIn-timings: In timings inside the campus are 6 pm\\nIn-timings for Hostel: Girls in-timing to get inside the hostel is 7pm (library permission is granted to girls)\\nfor boys it can be 9:30 pm to 10 pm.\\nFacilities: The academics departments has lot of good facilities available in terms of labs especially for mechanical branch. I see you are interested in CSE branch, so u just need systems and Software installed. Don’t worry you won’t face a problem with this. But mechanical and civil guys, beware of all the lab permission you have to take before using the machine for your personal research and projects.\\nHostel: When I joined the hostel, the rooms were normal floored beds and less congested. Due to the high intake from past 3 years, the 2 bedded rooms are converted into 3 bedded rooms, 3 bedded to 4 bedded with bunker beds installed in each of them. It also has quite a nice GYM and indoor games room. I don’t know about girls hostel :p\\nAs per the personal experience is considered, if you can’t adjust with people at any cost, don’t come to hostel (but i won’t recommend it).\\nHow many number of mess do we have? we have 4 messes\\nMess: We have 4 mess:\\nNorth indian veg.\\nnorth indian non veg\\nsouth indian\\nspecial mess : juice and cornflakes in the morning and shake or badam milk in the evening are added, nothing much.\\nIf you are a food lover like me, u will face lot of problems adjusting with the food.\\nOne more thing, the night mess in the boys hostels (sorry girls!) run from 10:30 pm to 2–3 pm at night which might act as a life savior after the ganda mess food. Plus you can always order form outside (restaurants outside the campus).\\nFaculties: I am from mechanical branch, So I can only tell about the mechanical faculties there. Some of the faculties are very nice and care about there students (Trust me, when you join engineering, you don’t want your faculty to care about you) and some are very nice in-terms of academics, but will make you work your back side off to pass the exam.\\nFrom my personal experience, The ex-dean Dr CP kartikeyan is one of the most jolly teachers of mechanical branch and Dr. Kalyani desikan of science department is one of the most student-caring professor of the college.\\nPedagogy Methods: The teaching style is basically presentation. Some teachers follow, the old book-teaching method. But a lot has changed since our time. They have started open book exams for all the subjects which in-turn increases the difficulty level of question paper (Good luck with that).\\nThe semester exams are divided into 3 divisions\\nCAT 1, CAT 2, FAT.\\nAnd did i mention that you have to make projects for each and every subjects in each semester.\\nPlacements: Your every effort finally comes down to the placements, since you want to pursue CSE, I would like to congratulate you in advance for your placement in XYZ company.\\nPlacements in VIT are 100%. But the thing that matters is whether you are getting core company or not.\\nWell It all depends on your luck.\\nMostly the company comes at VIT with handsome package of:\\n2 to 6 lpa for mechanical\\n2 to 10 lpa for electrical and communication\\n6 to 20 lpa for CSE\\nand God bless civil branch(very less compared to others)\\nBut comptetion for getting a job is fierce. There are almost 1000 aspiring students for a company that will take 2 or 3 students.\\nSo, Everything is a matter of probability here. Even if you come in top 10 students of your batch and a company wants to take 3 students, it all comes to luck.\\nCSE guys need not worry, they will definitely be placed in their core company.\\n\\nI am neither an enthusiastic wannabe nor a pissed off student, I’ll try to keep this answer as unbiased as possible.\\n\\nIn one sentence, I would say college life is awful, but placements are amazing. You will get to choose between everything. Let me tell you about the hostel life, academic life and cultural and social life in our university.\\n\\nHOSTEL LIFE\\n\\nWhen I got into this college, I was excited, and I used to talk to everyone. Everybody is nice, but that might not be the case later, so, be careful. They are also having the same feelings of a good start in the hostel like you.\\nThere will be groups divided based on many things, mainly culture/location. The public is diverse here, so, don’t be a communistic ass and treat people of other cultures differently (Be nice). What may seem like a punishment to you, may seem like a blessing to others, and I’m not kidding. For all the girls and north Indian boys, it might feel like a jail sometimes, but believe me, south Indian students find it amazing because their schools are even stricter.\\nThere will be Anime fans, TV shows’ fans, FIFA fans, some people will even be together because of classes. Diversity has its own pros and cons.\\nFirst few weeks of your college will be like a picnic to you. Classes are not so hard. You will play games (Mini Militia, BGMI, FIFA, Fortnite, CS Go, COD, Dota 2, Left4dead etc.). I don’t know what girls did in their hostel, I never went there (unfortunately).\\nGatherings in one room will be a common thing initially. Even people from other floors (streams/courses) will come. Even some subjects will be more universal, which will make you interact with students from different courses. It’s all fun and games until the workload builds up.\\nJust do not be a person who nobody knows even after a few months. Do not be sitting duck in your room all day, sleeping or masturbating. Try to be acquainted with everybody. I got to know one of my neighbors after 2 months in a class!!! He was so distant. And no, I was not masturbating until then.\\nThere is a regular cleaning service in our hostel which you get to choose if you want your room to be cleaned or not.\\nIn time for our hostel (currently) is 9:00 pm for boys hostel and 7:00 pm for girls hostel, but our library is open till midnight. But for that, you have to do an entry at 9:00 pm in hostel, then you can stay till 11:30 pm. Girls will always be accompanied by a lady after 7:00 pm if they need to go out of the hostel for medical issues or library, who we call “Akka” (big sister).\\nMess food is good. If you do not want to eat, you can go eat paid food from night mess (10:00 pm — 1:00 am). There is a periodic mess meeting with the mess and hostel authorities to discuss the mess menu.\\nACADEMIC LIFE\\n\\nWe have an FFCS system here where we choose our own subjects and teachers and even timings also. We try to choose our classes with our friends and our floor mates. It really helps during assignments and projects. The better C.G.P.A. and attendance you have, the more early slot you will get in FFCS to register your courses. Also, Day-scholars get more priority in choosing courses.\\nPro-tip: If you have the same faculty in a subject as your floor mates, you can share assignments. But if you have different faculties for same subject, then you can make same projects. That way, 6–8 people will be working on a project. The same project they will show their corresponding teacher, and you will show yours.\\nAt first, everybody will be learning some programming subjects, which has a different way of evaluation than other subjects. There will be daily evaluations and their own test systems which will add up in your final score. I must say, placements are heavy on the CSE side, so learning to code will definitely a plus and help you a lot in securing a good job.\\nDo not make big project groups (not more than 4 people). It is really difficult to manage. Everybody will be relying on the other person to do the work.\\nGet to know most of the people in your classes, or at least those who can get the assignments done.\\nChoose your project titles wisely. Either choose the project that you really want to work on or choose the ones whose whole data is already on the internet.\\nFew teachers are flawless, many are average, and some are awful. Talk to seniors before choosing teachers. Life-saving tip: Just because the faculty's name is in English, doesn't mean he/she is good (I chose John Kennedy)\\nCULTURAL AND SOCIAL LIFE\\n\\nThere are many games to play. Football, basketball, hockey, tennis etc. Make sure you have the right equipment for your sport.\\nWe can only join clubs after the first year. There is a period of extramural hours on Wednesday for these clubs.\\nThere will be many curtain raisers, talent hunts, dance offs etc. Do not miss any of them. They will really make your evening memorable. First year students also participate.\\nBoys used to shout whenever there is an electricity outage or a festival, and curse the warden. This is the only way they can rebel, albeit, it’s pointless.\\nThere is a gym in every hostel which opens twice in a day. One in the early morning and in the evening. If you seriously want to exercise, try going in the mornings, it is really hard with classes up ahead, but try to schedule most of your classes in the evening, as there is a crowd in the evening.\\nTournament seasons are really fun to watch with everybody (UEFA, IPL, Commonwealth, Olympics etc.). Lots of cheering and shouting is there. There are TVs on every third (or fourth) floor.\\nThere will be exams, interviews and auditions for teams (like ZURA, Technocrats, Roadrunners etc.) You can join them if you want to do something else other than studying. Of course, you have to pay some membership amount to join the team, and they give a lot of work to freshers.\\nApart from all this, we have an event called MUN (both intra-college and inter-college) where people participate, and have debates. It is a very big (and complex?) event. Participate only if you have done your homework.\\n\\nOur two major events are TechnoVIT (where you play games and complete challenges) and \\nVIBRANCE (where you enjoy the EDM nights, concerts and see some well-known stars etc.). \\nYou can volunteer for them from second year onwards.\\n\\nlife at VIT Chennai is quite enjoyable\\nThere’s a health centre in the campus. They charge 150 rs. for consultation. \\nYou can get good treatment for basic issues like skin allergeies, fever, eye irritations, \\nfractures and any other injuries. But all the doctors aren’t available everyday. \\nYou can meet them only on specific days of the week and the prescribed medicines would be available at the pharmacy adjacent to the health centre. If it’s an emergency, you can always visit CMC which is around 7–8km from the campus. They provide an ambulance here. But it’s difficult to get an appointment there for the same day and i hope you heard about the high fee that you should pay at CMC! Instead you can visit any local hospital in vellore. There’re a few multi speciality hospitals which are around 3–5km from the campus. I got an infection last week and they said that there isn’t any gynaecologist at the health centre. So i looked up for the hospitals nearby and based on the reviews, called 2 or 3 of them and fixed an appoinment at a hospital which is around 3.5km from VIT. It took 15–20 minutes to reach there. The doctor gave a few medicines and i’m fine now. The consultation fee was 200 and i could get the medicines from the pharmacy which was in that hospital itself. And here’s a chart of the availability of doctors at the health centre in VIT\\nThere is a health center inside VIT. If you get sick, go to the warden’s office and ask for an ambulance and the same will be provided to you. GO to the health center, with your id card. For first timers the rate is 150. 100 after that to see the doctor. The doctor will prescribe the medicines which will be available right outside the health center. If the doctor thinks you are serious, you will be taken to CMC and your parents will be informed and asked to come.\\n\\nHope this helps.\\n\\nThere is a health center inside campus in ALM block. You can register yourself there at a cost of ₹150 and schedule a specialist doctor’s appointment or see the resident doctor that is there.\\n\\nMedicines: you need to buy separately at the pharmacy just adjacent to the HC. There are pharmacies near Allmart and near D block hostel.\\n\\nFor subsequent visits also there is a fixed fee of ₹50-₹100.\\n\\nFirst aid is free in health center and in Hostel G block first aid center. Moreover, every hostel has first aid kits with the security guard. Ambulance service is free.\\n\\nFor minor problems like fever, flu, cough, toothache etc HC works fine.\\n\\nFor major complications, you can go to CMC in an ambulance or Auto. It is 7.5 km from VIT and auto will charge ₹ 100–200. There will be long queue to take appointments in CMC and same day appointments are tough to get as it is one of the best hospitals in India with thousands of patients everyday!\\n\\nOnline appointment system of CMC is preferable, book it beforehand and visit. In case of emergency, directly visit the Emergency center in CMC, Vellore.\\n\\n\\nCounsellors are available at vit: We have Dr. Rita Bhattacharjee,Dr.S.Tholkappiya Chezhian and Dr. Dhanalakshmi N for providing counselling. \\nCounsellors available at vit: We have the foll0owing counsellors available for counselling: Dr. Rita Bhattacharjee,Dr.S.Tholkappiya Chezhian and Dr. Dhanalakshmi N for providing counselling. \\n\\n\\nSet an appointment with Dr. Rita Bhattacharjee : Setting appointment with Dr. Rita Bhattacharjee.\\n\\nSet an appointment with Dr.S.Tholkappiya Chezhian, Setting appointment with Dr.S.Tholkappiya Chezhian,\\n\\nSetting appointment with Dr. Dhanalakshmi N\\nSet an appointment with Dr. Dhanalakshmi N\\nSetting appointment.\\n\\nsetting an\\n\\nWe have Dr. Rita Bhattacharjee,Dr.S.Tholkappiya Chezhian and Dr. Dhanalakshmi N for providing counselling. \\nVIT offers confidential and professional one to one counselling and psychological support for its Students, Staff and Members of Faculty. VIT also helps to realise the potential of Students and Faculty to utilise it by them. The primary responsibilities of these counselling centers alleviate distress and promote healthy functioning by providing short -term counselling services also.\\n\\nFor Contact:\\nDirector Students' Welfare Office\\n# 102, Dr. M.G.R. Block,\\nVellore Institute of Technology (VIT)\\nVellore - 632 014\\nPPhone: +91-416-2202202 / 2200\\nFax: +91-416-2243092\\nE.Mail: director.sw@vit.ac.in\\nIf you get sick during exams, go to HC asap and maintain all records of your treatment else re-exam won’t be permitted.Students seek counselling for a variety of reasons. Counsellors support and empower students to develop their potential, improve mental health and wellness, define and achieve academic and personal goal.\\n\\nThe Counsellors at VIT are ever ready for students needs- both psychologically and academically. They are here to provide all kinds of solutions for their emotional issues. The Counsellors are providing their helping hands for the children to resolve their issues at its budding time itself.\\n\\nDuring your first appointment, you will be supplied with the necessary information about confidentiality. Your Counsellor will review this with you, responding any question you may have. This would be within the parameters of the University norms.\\n\\nThe Counselling service under the OFFICE OF STUDENTS’ WELFARE provides an excellent opportunity for all students at any level and at any time of study at VIT, to access professional therapeutic counselling, so that they may develop well and fulfil their personal, academic and professional potential.\\nVIT utilizes an INTEGRATED APPROACH to student health focused on wellness and Wellbeing to ensure all services, for both physical and mental health, are positioned to facilitate care that promotes student success and expands availability.\\n\\n\\nDr. Rita Bhattacharjee,\\nPh.D. in Counselling Psychology\\nCounselling Psychologist\\nHead of the Department (HOD), Counselling Division\\nAvailable at Cabin No. SMV G12\\nMonday to Friday between 10.00am to 6.00pm\\nEmail: rita.rani@vit.ac.in\\tDr.P.Rathika.MBBS,MD(Psychiatry)\\nDGO(Diploma in Gynaecology and Obstetrics)\\nVisiting Consultant Psychiatrist\\nAvailable at Health Centre, First floor, Room No. 9\\nDays : Tuesday and Friday\\nTime : 2.00pm to 5.00pm\\n\\nHow many counsellors are available at vit ? We have Dr. Rita Bhattacharjee,Dr.S.Tholkappiya Chezhian and Dr. Dhanalakshmi N for providing counselling. \\nCounsellors available at vit: We have the follwing counsellors available for counselling: Dr. Rita Bhattacharjee,Dr.S.Tholkappiya Chezhian and Dr. Dhanalakshmi N for providing counselling. \\n\\n\\nSet an appointment with Dr. Rita Bhattacharjee.\\n\\nSetting appointment.\\n\\nSet an appointment with Dr.S.Tholkappiya Chezhian,\\n\\nSetting appointment.\\nSet an appointment with Dr. Dhanalakshmi N\\nSetting appointment.\\n\\nsetting an\\n\\nWe have Dr. Rita Bhattacharjee,Dr.S.Tholkappiya Chezhian and Dr. Dhanalakshmi N for providing counselling. \\n\\nDr.S.Tholkappiya Chezhian\\nMBBS., M.D(Psychiatry) Visiting Consultant Psychiatrist\\nAvailable at Health Centre, First floor, Room No. 9\\nDays: Monday and Thursday\\nTime : 3.00pm to 6.00 pm\\tMr. Felix Emmanuel J N\\nMSc. Psychology, M.A. Sociology, MSW(DS), PGHRM, PPMH, DMH , PFA\\nStudent Counsellor\\nTT720 between 9.00am to 6.00pm\\nMen’s Hostel between 6.10pm to 8.00pm\\nEmail: felix.emmanuel@vit.ac.in\\nDr. Dhanalakshmi N\\nMSc. Psychology, P.G. Psychological Counselling, PhD (N)\\nStudent Counsellor\\nAvailable at Cabin No PRP 206\\nMonday to Friday between 9.00am to 6.00pm\\nEmail: dhanalakshmi.n@vit.ac.in\\tMr. Blessing Calvin G\\nMSc. Applied Psychology\\nStudent Counsellor\\nAvailable at Cabin No. 630 at SJT\\nMonday to Friday between 9.00am to 6.00pm\\nEmail: blessing.calvin@vit.ac.in\\nMr.Parthiban D\\nMSc. Psychology\\nStudent Counsellor\\nAvailable at SJT 326\\nMonday to Friday between 9.00am to 6.00pm\\nEmail: parthiban.d@vit.ac.in\\tDr.Jetson Satya Gospel\\nMember - American Psychological Association (APA)\\nM.S.W (Medical & Psychiatry), M.B.A. (HSM) M.Sc. (DM), Ph.D.\\nPsychosocial Counsellor\\nAvailable at Cabin No PRP 206\\nMonday to Friday between 9.00am to 6.00pm\\nEmail: gospel.js@vit.ac.in\\n\""
            ],
            "application/vnd.google.colaboratory.intrinsic+json": {
              "type": "string"
            }
          },
          "metadata": {},
          "execution_count": 193
        }
      ],
      "source": [
        "raw_doc"
      ]
    },
    {
      "cell_type": "code",
      "execution_count": null,
      "metadata": {
        "colab": {
          "base_uri": "https://localhost:8080/"
        },
        "id": "GQVFXJ1eQ5Gw",
        "outputId": "9c52a301-e2da-45b6-f4f2-d46289d3a107"
      },
      "outputs": [
        {
          "output_type": "stream",
          "name": "stderr",
          "text": [
            "[nltk_data] Downloading package punkt to /root/nltk_data...\n",
            "[nltk_data]   Package punkt is already up-to-date!\n",
            "[nltk_data] Downloading package wordnet to /root/nltk_data...\n",
            "[nltk_data]   Package wordnet is already up-to-date!\n",
            "[nltk_data] Downloading package omw-1.4 to /root/nltk_data...\n",
            "[nltk_data]   Package omw-1.4 is already up-to-date!\n"
          ]
        }
      ],
      "source": [
        "raw_doc = raw_doc.lower()\n",
        "nltk.download('punkt')\n",
        "nltk.download('wordnet')\n",
        "nltk.download('omw-1.4')\n",
        "sentence_tokens = nltk.sent_tokenize(raw_doc)\n",
        "word_tokens = nltk.word_tokenize(raw_doc)"
      ]
    },
    {
      "cell_type": "code",
      "execution_count": null,
      "metadata": {
        "colab": {
          "base_uri": "https://localhost:8080/",
          "height": 140
        },
        "id": "WxfzPxJvQ9sg",
        "outputId": "18fd2367-8f7d-4e34-9e63-e2a5a4fcb718"
      },
      "outputs": [
        {
          "output_type": "execute_result",
          "data": {
            "text/plain": [
              "\"hello, welcome to campusiq. i am your campbud , how may i assist you today? \\nfor problems related to attendance, try contacting your proctor in case you have very low attendance, call your proctor for attendance below 75.\\nfor a particular date in the a month send message to your teacher muthulakshmi for attendance for this date. \\nsending message to dr. muthulakshmi for updating\\nyour attendance. telling your teacher dr. muthulakshmi to update your attendance. \\nthe teacher did not give attendance in one of the lecture during cat 2 in which i was present and now \\nthe portals are closed even if i attend the remaining 3 lectures i will have 71% attendance. now should i \\nrequest my lecture to write a letter to the dean or make a fake medical report to get my attendance.\\nattend all the the lectures in the coming week. if still not above 75% , go to your proctor or hod & request them. in this situation only proctor can solve your issue . no one else will. request him/her sincerely. you will be allowed to appear for fat, so dont worry.\\n\\neven many students had attendance below 75% in cat:1&2 . they requested their proctor for\\n help & they were allowed to write the exam.\\n\\ngo to your proctor as soon as possible.\\n graduated this year from vit chennai with my major in mechanical engineering. i have gone through some good times and some bad times there. don’t worry i am not gonna explain those to you.\\n\\ni will explain the campus through various attributes.\\n\\ncampus: the campus started in 2010. we were the third batch of vit chennai (2012–2016). it has developed a lot since 4 years. but still it is nothing compared to vellore campus. still i will lay it down for you.\\nthe campus is in 150 acres and consist of the following building:\\n1. 2 hostels: 15 floors each for boys and girls\\n2. 1 mba block\\n3. one 3 floored library (best features of the campus)\\n4. one pond which noone cares about\\n5. 1 academic block\\n6. 1 canteen, 2 gazibo, 2 atms, 1 v-mart: for your survival from ghatia mess food.\\n7. some restaurants and juice center outside the campus are available\\nin-timings: in timings inside the campus are 6 pm\\nin-timings for hostel: girls in-timing to get inside the hostel is 7pm (library permission is granted to girls)\\nfor boys it can be 9:30 pm to 10 pm.\\nfacilities: the academics departments has lot of good facilities available in terms of labs especially for mechanical branch. i see you are interested in cse branch, so u just need systems and software installed. don’t worry you won’t face a problem with this. but mechanical and civil guys, beware of all the lab permission you have to take before using the machine for your personal research and projects.\\nhostel: when i joined the hostel, the rooms were normal floored beds and less congested. due to the high intake from past 3 years, the 2 bedded rooms are converted into 3 bedded rooms, 3 bedded to 4 bedded with bunker beds installed in each of them. it also has quite a nice gym and indoor games room. i don’t know about girls hostel :p\\nas per the personal experience is considered, if you can’t adjust with people at any cost, don’t come to hostel (but i won’t recommend it).\\nhow many number of mess do we have? we have 4 messes\\nmess: we have 4 mess:\\nnorth indian veg.\\nnorth indian non veg\\nsouth indian\\nspecial mess : juice and cornflakes in the morning and shake or badam milk in the evening are added, nothing much.\\nif you are a food lover like me, u will face lot of problems adjusting with the food.\\none more thing, the night mess in the boys hostels (sorry girls!) run from 10:30 pm to 2–3 pm at night which might act as a life savior after the ganda mess food. plus you can always order form outside (restaurants outside the campus).\\nfaculties: i am from mechanical branch, so i can only tell about the mechanical faculties there. some of the faculties are very nice and care about there students (trust me, when you join engineering, you don’t want your faculty to care about you) and some are very nice in-terms of academics, but will make you work your back side off to pass the exam.\\nfrom my personal experience, the ex-dean dr cp kartikeyan is one of the most jolly teachers of mechanical branch and dr. kalyani desikan of science department is one of the most student-caring professor of the college.\\npedagogy methods: the teaching style is basically presentation. some teachers follow, the old book-teaching method. but a lot has changed since our time. they have started open book exams for all the subjects which in-turn increases the difficulty level of question paper (good luck with that).\\nthe semester exams are divided into 3 divisions\\ncat 1, cat 2, fat.\\nand did i mention that you have to make projects for each and every subjects in each semester.\\nplacements: your every effort finally comes down to the placements, since you want to pursue cse, i would like to congratulate you in advance for your placement in xyz company.\\nplacements in vit are 100%. but the thing that matters is whether you are getting core company or not.\\nwell it all depends on your luck.\\nmostly the company comes at vit with handsome package of:\\n2 to 6 lpa for mechanical\\n2 to 10 lpa for electrical and communication\\n6 to 20 lpa for cse\\nand god bless civil branch(very less compared to others)\\nbut comptetion for getting a job is fierce. there are almost 1000 aspiring students for a company that will take 2 or 3 students.\\nso, everything is a matter of probability here. even if you come in top 10 students of your batch and a company wants to take 3 students, it all comes to luck.\\ncse guys need not worry, they will definitely be placed in their core company.\\n\\ni am neither an enthusiastic wannabe nor a pissed off student, i’ll try to keep this answer as unbiased as possible.\\n\\nin one sentence, i would say college life is awful, but placements are amazing. you will get to choose between everything. let me tell you about the hostel life, academic life and cultural and social life in our university.\\n\\nhostel life\\n\\nwhen i got into this college, i was excited, and i used to talk to everyone. everybody is nice, but that might not be the case later, so, be careful. they are also having the same feelings of a good start in the hostel like you.\\nthere will be groups divided based on many things, mainly culture/location. the public is diverse here, so, don’t be a communistic ass and treat people of other cultures differently (be nice). what may seem like a punishment to you, may seem like a blessing to others, and i’m not kidding. for all the girls and north indian boys, it might feel like a jail sometimes, but believe me, south indian students find it amazing because their schools are even stricter.\\nthere will be anime fans, tv shows’ fans, fifa fans, some people will even be together because of classes. diversity has its own pros and cons.\\nfirst few weeks of your college will be like a picnic to you. classes are not so hard. you will play games (mini militia, bgmi, fifa, fortnite, cs go, cod, dota 2, left4dead etc.). i don’t know what girls did in their hostel, i never went there (unfortunately).\\ngatherings in one room will be a common thing initially. even people from other floors (streams/courses) will come. even some subjects will be more universal, which will make you interact with students from different courses. it’s all fun and games until the workload builds up.\\njust do not be a person who nobody knows even after a few months. do not be sitting duck in your room all day, sleeping or masturbating. try to be acquainted with everybody. i got to know one of my neighbors after 2 months in a class!!! he was so distant. and no, i was not masturbating until then.\\nthere is a regular cleaning service in our hostel which you get to choose if you want your room to be cleaned or not.\\nin time for our hostel (currently) is 9:00 pm for boys hostel and 7:00 pm for girls hostel, but our library is open till midnight. but for that, you have to do an entry at 9:00 pm in hostel, then you can stay till 11:30 pm. girls will always be accompanied by a lady after 7:00 pm if they need to go out of the hostel for medical issues or library, who we call “akka” (big sister).\\nmess food is good. if you do not want to eat, you can go eat paid food from night mess (10:00 pm — 1:00 am). there is a periodic mess meeting with the mess and hostel authorities to discuss the mess menu.\\nacademic life\\n\\nwe have an ffcs system here where we choose our own subjects and teachers and even timings also. we try to choose our classes with our friends and our floor mates. it really helps during assignments and projects. the better c.g.p.a. and attendance you have, the more early slot you will get in ffcs to register your courses. also, day-scholars get more priority in choosing courses.\\npro-tip: if you have the same faculty in a subject as your floor mates, you can share assignments. but if you have different faculties for same subject, then you can make same projects. that way, 6–8 people will be working on a project. the same project they will show their corresponding teacher, and you will show yours.\\nat first, everybody will be learning some programming subjects, which has a different way of evaluation than other subjects. there will be daily evaluations and their own test systems which will add up in your final score. i must say, placements are heavy on the cse side, so learning to code will definitely a plus and help you a lot in securing a good job.\\ndo not make big project groups (not more than 4 people). it is really difficult to manage. everybody will be relying on the other person to do the work.\\nget to know most of the people in your classes, or at least those who can get the assignments done.\\nchoose your project titles wisely. either choose the project that you really want to work on or choose the ones whose whole data is already on the internet.\\nfew teachers are flawless, many are average, and some are awful. talk to seniors before choosing teachers. life-saving tip: just because the faculty's name is in english, doesn't mean he/she is good (i chose john kennedy)\\ncultural and social life\\n\\nthere are many games to play. football, basketball, hockey, tennis etc. make sure you have the right equipment for your sport.\\nwe can only join clubs after the first year. there is a period of extramural hours on wednesday for these clubs.\\nthere will be many curtain raisers, talent hunts, dance offs etc. do not miss any of them. they will really make your evening memorable. first year students also participate.\\nboys used to shout whenever there is an electricity outage or a festival, and curse the warden. this is the only way they can rebel, albeit, it’s pointless.\\nthere is a gym in every hostel which opens twice in a day. one in the early morning and in the evening. if you seriously want to exercise, try going in the mornings, it is really hard with classes up ahead, but try to schedule most of your classes in the evening, as there is a crowd in the evening.\\ntournament seasons are really fun to watch with everybody (uefa, ipl, commonwealth, olympics etc.). lots of cheering and shouting is there. there are tvs on every third (or fourth) floor.\\nthere will be exams, interviews and auditions for teams (like zura, technocrats, roadrunners etc.) you can join them if you want to do something else other than studying. of course, you have to pay some membership amount to join the team, and they give a lot of work to freshers.\\napart from all this, we have an event called mun (both intra-college and inter-college) where people participate, and have debates. it is a very big (and complex?) event. participate only if you have done your homework.\\n\\nour two major events are technovit (where you play games and complete challenges) and \\nvibrance (where you enjoy the edm nights, concerts and see some well-known stars etc.). \\nyou can volunteer for them from second year onwards.\\n\\nlife at vit chennai is quite enjoyable\\nthere’s a health centre in the campus. they charge 150 rs. for consultation. \\nyou can get good treatment for basic issues like skin allergeies, fever, eye irritations, \\nfractures and any other injuries. but all the doctors aren’t available everyday. \\nyou can meet them only on specific days of the week and the prescribed medicines would be available at the pharmacy adjacent to the health centre. if it’s an emergency, you can always visit cmc which is around 7–8km from the campus. they provide an ambulance here. but it’s difficult to get an appointment there for the same day and i hope you heard about the high fee that you should pay at cmc! instead you can visit any local hospital in vellore. there’re a few multi speciality hospitals which are around 3–5km from the campus. i got an infection last week and they said that there isn’t any gynaecologist at the health centre. so i looked up for the hospitals nearby and based on the reviews, called 2 or 3 of them and fixed an appoinment at a hospital which is around 3.5km from vit. it took 15–20 minutes to reach there. the doctor gave a few medicines and i’m fine now. the consultation fee was 200 and i could get the medicines from the pharmacy which was in that hospital itself. and here’s a chart of the availability of doctors at the health centre in vit\\nthere is a health center inside vit. if you get sick, go to the warden’s office and ask for an ambulance and the same will be provided to you. go to the health center, with your id card. for first timers the rate is 150. 100 after that to see the doctor. the doctor will prescribe the medicines which will be available right outside the health center. if the doctor thinks you are serious, you will be taken to cmc and your parents will be informed and asked to come.\\n\\nhope this helps.\\n\\nthere is a health center inside campus in alm block. you can register yourself there at a cost of ₹150 and schedule a specialist doctor’s appointment or see the resident doctor that is there.\\n\\nmedicines: you need to buy separately at the pharmacy just adjacent to the hc. there are pharmacies near allmart and near d block hostel.\\n\\nfor subsequent visits also there is a fixed fee of ₹50-₹100.\\n\\nfirst aid is free in health center and in hostel g block first aid center. moreover, every hostel has first aid kits with the security guard. ambulance service is free.\\n\\nfor minor problems like fever, flu, cough, toothache etc hc works fine.\\n\\nfor major complications, you can go to cmc in an ambulance or auto. it is 7.5 km from vit and auto will charge ₹ 100–200. there will be long queue to take appointments in cmc and same day appointments are tough to get as it is one of the best hospitals in india with thousands of patients everyday!\\n\\nonline appointment system of cmc is preferable, book it beforehand and visit. in case of emergency, directly visit the emergency center in cmc, vellore.\\n\\n\\ncounsellors are available at vit: we have dr. rita bhattacharjee,dr.s.tholkappiya chezhian and dr. dhanalakshmi n for providing counselling. \\ncounsellors available at vit: we have the foll0owing counsellors available for counselling: dr. rita bhattacharjee,dr.s.tholkappiya chezhian and dr. dhanalakshmi n for providing counselling. \\n\\n\\nset an appointment with dr. rita bhattacharjee : setting appointment with dr. rita bhattacharjee.\\n\\nset an appointment with dr.s.tholkappiya chezhian, setting appointment with dr.s.tholkappiya chezhian,\\n\\nsetting appointment with dr. dhanalakshmi n\\nset an appointment with dr. dhanalakshmi n\\nsetting appointment.\\n\\nsetting an\\n\\nwe have dr. rita bhattacharjee,dr.s.tholkappiya chezhian and dr. dhanalakshmi n for providing counselling. \\nvit offers confidential and professional one to one counselling and psychological support for its students, staff and members of faculty. vit also helps to realise the potential of students and faculty to utilise it by them. the primary responsibilities of these counselling centers alleviate distress and promote healthy functioning by providing short -term counselling services also.\\n\\nfor contact:\\ndirector students' welfare office\\n# 102, dr. m.g.r. block,\\nvellore institute of technology (vit)\\nvellore - 632 014\\npphone: +91-416-2202202 / 2200\\nfax: +91-416-2243092\\ne.mail: director.sw@vit.ac.in\\nif you get sick during exams, go to hc asap and maintain all records of your treatment else re-exam won’t be permitted.students seek counselling for a variety of reasons. counsellors support and empower students to develop their potential, improve mental health and wellness, define and achieve academic and personal goal.\\n\\nthe counsellors at vit are ever ready for students needs- both psychologically and academically. they are here to provide all kinds of solutions for their emotional issues. the counsellors are providing their helping hands for the children to resolve their issues at its budding time itself.\\n\\nduring your first appointment, you will be supplied with the necessary information about confidentiality. your counsellor will review this with you, responding any question you may have. this would be within the parameters of the university norms.\\n\\nthe counselling service under the office of students’ welfare provides an excellent opportunity for all students at any level and at any time of study at vit, to access professional therapeutic counselling, so that they may develop well and fulfil their personal, academic and professional potential.\\nvit utilizes an integrated approach to student health focused on wellness and wellbeing to ensure all services, for both physical and mental health, are positioned to facilitate care that promotes student success and expands availability.\\n\\n\\ndr. rita bhattacharjee,\\nph.d. in counselling psychology\\ncounselling psychologist\\nhead of the department (hod), counselling division\\navailable at cabin no. smv g12\\nmonday to friday between 10.00am to 6.00pm\\nemail: rita.rani@vit.ac.in\\tdr.p.rathika.mbbs,md(psychiatry)\\ndgo(diploma in gynaecology and obstetrics)\\nvisiting consultant psychiatrist\\navailable at health centre, first floor, room no. 9\\ndays : tuesday and friday\\ntime : 2.00pm to 5.00pm\\n\\nhow many counsellors are available at vit ? we have dr. rita bhattacharjee,dr.s.tholkappiya chezhian and dr. dhanalakshmi n for providing counselling. \\ncounsellors available at vit: we have the follwing counsellors available for counselling: dr. rita bhattacharjee,dr.s.tholkappiya chezhian and dr. dhanalakshmi n for providing counselling. \\n\\n\\nset an appointment with dr. rita bhattacharjee.\\n\\nsetting appointment.\\n\\nset an appointment with dr.s.tholkappiya chezhian,\\n\\nsetting appointment.\\nset an appointment with dr. dhanalakshmi n\\nsetting appointment.\\n\\nsetting an\\n\\nwe have dr. rita bhattacharjee,dr.s.tholkappiya chezhian and dr. dhanalakshmi n for providing counselling. \\n\\ndr.s.tholkappiya chezhian\\nmbbs., m.d(psychiatry) visiting consultant psychiatrist\\navailable at health centre, first floor, room no. 9\\ndays: monday and thursday\\ntime : 3.00pm to 6.00 pm\\tmr. felix emmanuel j n\\nmsc. psychology, m.a. sociology, msw(ds), pghrm, ppmh, dmh , pfa\\nstudent counsellor\\ntt720 between 9.00am to 6.00pm\\nmen’s hostel between 6.10pm to 8.00pm\\nemail: felix.emmanuel@vit.ac.in\\ndr. dhanalakshmi n\\nmsc. psychology, p.g. psychological counselling, phd (n)\\nstudent counsellor\\navailable at cabin no prp 206\\nmonday to friday between 9.00am to 6.00pm\\nemail: dhanalakshmi.n@vit.ac.in\\tmr. blessing calvin g\\nmsc. applied psychology\\nstudent counsellor\\navailable at cabin no. 630 at sjt\\nmonday to friday between 9.00am to 6.00pm\\nemail: blessing.calvin@vit.ac.in\\nmr.parthiban d\\nmsc. psychology\\nstudent counsellor\\navailable at sjt 326\\nmonday to friday between 9.00am to 6.00pm\\nemail: parthiban.d@vit.ac.in\\tdr.jetson satya gospel\\nmember - american psychological association (apa)\\nm.s.w (medical & psychiatry), m.b.a. (hsm) m.sc. (dm), ph.d.\\npsychosocial counsellor\\navailable at cabin no prp 206\\nmonday to friday between 9.00am to 6.00pm\\nemail: gospel.js@vit.ac.in\\n\""
            ],
            "application/vnd.google.colaboratory.intrinsic+json": {
              "type": "string"
            }
          },
          "metadata": {},
          "execution_count": 195
        }
      ],
      "source": [
        "raw_doc"
      ]
    },
    {
      "cell_type": "code",
      "execution_count": null,
      "metadata": {
        "id": "7qP5eVaSWP8j"
      },
      "outputs": [],
      "source": [
        "sentence_tokens = nltk.sent_tokenize(raw_doc)\n",
        "word_tokens = nltk.word_tokenize(raw_doc)\n"
      ]
    },
    {
      "cell_type": "code",
      "execution_count": null,
      "metadata": {
        "colab": {
          "base_uri": "https://localhost:8080/"
        },
        "id": "WlHZ8VmCXDqs",
        "outputId": "7172b0a2-dfb8-431d-9f5a-db2a751cae05"
      },
      "outputs": [
        {
          "output_type": "execute_result",
          "data": {
            "text/plain": [
              "['hello, welcome to campusiq.',\n",
              " 'i am your campbud , how may i assist you today?',\n",
              " 'for problems related to attendance, try contacting your proctor in case you have very low attendance, call your proctor for attendance below 75.\\nfor a particular date in the a month send message to your teacher muthulakshmi for attendance for this date.',\n",
              " 'sending message to dr. muthulakshmi for updating\\nyour attendance.',\n",
              " 'telling your teacher dr. muthulakshmi to update your attendance.']"
            ]
          },
          "metadata": {},
          "execution_count": 197
        }
      ],
      "source": [
        "sentence_tokens[:5]"
      ]
    },
    {
      "cell_type": "code",
      "execution_count": null,
      "metadata": {
        "colab": {
          "base_uri": "https://localhost:8080/",
          "height": 36
        },
        "id": "CuJsioJ2XGHm",
        "outputId": "69244888-7304-4f96-be03-d1744a5be0a1"
      },
      "outputs": [
        {
          "output_type": "execute_result",
          "data": {
            "text/plain": [
              "'welcome'"
            ],
            "application/vnd.google.colaboratory.intrinsic+json": {
              "type": "string"
            }
          },
          "metadata": {},
          "execution_count": 198
        }
      ],
      "source": [
        "word_tokens[2]"
      ]
    },
    {
      "cell_type": "code",
      "execution_count": null,
      "metadata": {
        "id": "czNZ73CYXPGq"
      },
      "outputs": [],
      "source": [
        "lemmer = nltk.stem.WordNetLemmatizer()\n",
        "def LemTokens(tokens):\n",
        "  return [lemmer.lemmatize(token) for token in tokens]\n",
        "remove_punc_dict = dict((ord(punct),None) for punct in string.punctuation)\n",
        "def LemNormalize(text):\n",
        "  return LemTokens(nltk.word_tokenize(text.lower().translate(remove_punc_dict)))"
      ]
    },
    {
      "cell_type": "code",
      "execution_count": null,
      "metadata": {
        "id": "WAPmqVgWYeRb"
      },
      "outputs": [],
      "source": [
        "greet_inputs = ('Hello','Hi','Hi there!','Hello there!')\n",
        "greet_responses = ('Hello there','How may I help you','Hi there')\n",
        "\n",
        "def greet(sentence):\n",
        "  for word in sentence.split():\n",
        "    if word.lower() in greet_inputs:\n",
        "      return random.choice(greet_responses)"
      ]
    },
    {
      "cell_type": "code",
      "execution_count": null,
      "metadata": {
        "id": "WE2bYcJ2ZSRb"
      },
      "outputs": [],
      "source": [
        "from sklearn.feature_extraction.text import TfidfVectorizer\n",
        "from sklearn.metrics.pairwise import cosine_similarity"
      ]
    },
    {
      "cell_type": "code",
      "execution_count": null,
      "metadata": {
        "id": "a5ODicACZfcf"
      },
      "outputs": [],
      "source": [
        "def response(user_response):\n",
        "  robo1_response = ''\n",
        "  TfidVec = TfidfVectorizer(tokenizer = LemNormalize, stop_words = 'english')\n",
        "  tfidf = TfidVec.fit_transform(sentence_tokens)\n",
        "  vals = cosine_similarity(tfidf[-1],tfidf)\n",
        "  idx = vals.argsort()[0][-2]\n",
        "  flat = vals.flatten()\n",
        "  flat.sort()\n",
        "  req_tfidf = flat[-2]\n",
        "  if(req_tfidf==0):\n",
        "    robo1_response = robo1_response + \"I am sorry. Unable to understand you.\"\n",
        "    return robo1_response\n",
        "  else:\n",
        "    robo1_response = robo1_response + sentence_tokens[idx]\n",
        "    return robo1_response\n"
      ]
    },
    {
      "cell_type": "code",
      "source": [],
      "metadata": {
        "id": "0ntcv6F9Uqb2"
      },
      "execution_count": null,
      "outputs": []
    },
    {
      "cell_type": "code",
      "execution_count": null,
      "metadata": {
        "colab": {
          "base_uri": "https://localhost:8080/"
        },
        "id": "yrx6MaGRa_f4",
        "outputId": "cf37df1e-93ca-4380-ae9e-a1c412a5d789"
      },
      "outputs": [
        {
          "output_type": "stream",
          "name": "stdout",
          "text": [
            "Hello there ! I am your Campbud, How may I assist you today?\n",
            "hi\n",
            "Bot: I am sorry. Unable to understand you.\n",
            "Hello\n",
            "Bot: hello, welcome to campusiq.\n",
            "Hi\n",
            "Bot: I am sorry. Unable to understand you.\n",
            "Hello there\n",
            "Bot: hello, welcome to campusiq.\n",
            "thanks\n",
            "You are welcome !\n"
          ]
        }
      ],
      "source": [
        "flag = True\n",
        "print('Hello there ! I am your Campbud, How may I assist you today?')\n",
        "while(flag==True):\n",
        "  user_response = input()\n",
        "  user_response = user_response.lower()\n",
        "  if(user_response != 'bye'):\n",
        "    if(user_response=='thank you' or user_response == 'thanks'):\n",
        "      flag = False\n",
        "      print(\"You are welcome !\")\n",
        "    else:\n",
        "      if(greet(user_response) != None):\n",
        "        print('Bot: ' + greet(user_response))\n",
        "      else:\n",
        "        sentence_tokens.append(user_response)\n",
        "        word_tokens = word_tokens + nltk.word_tokenize(user_response)\n",
        "        final_words = list(set(word_tokens))\n",
        "        print('Bot: ', end = '')\n",
        "        print(response(user_response))\n",
        "        sentence_tokens.remove(user_response)\n",
        "  else:\n",
        "    flag = False\n",
        "    print(\"Bot: \" + \"Good bye !\")\n",
        "    "
      ]
    },
    {
      "cell_type": "code",
      "execution_count": null,
      "metadata": {
        "id": "ycWU1NtMbu3D"
      },
      "outputs": [],
      "source": []
    }
  ],
  "metadata": {
    "colab": {
      "provenance": []
    },
    "kernelspec": {
      "display_name": "Python 3",
      "name": "python3"
    },
    "language_info": {
      "name": "python"
    }
  },
  "nbformat": 4,
  "nbformat_minor": 0
}